{
 "cells": [
  {
   "cell_type": "markdown",
   "id": "25a13393-35a2-49ae-9380-445f900e8395",
   "metadata": {},
   "source": [
    "---\n",
    "### Problem 273"
   ]
  },
  {
   "cell_type": "markdown",
   "id": "b2b1e07f-ddaf-40d7-b856-a10e9bea7dc8",
   "metadata": {},
   "source": [
    "Technical interview question asked by Apple.\n",
    "\n",
    "Find a Fixed Point in a given array.\n",
    "\n",
    "A fixed point in an array is an element whose value is equal to its index if one exists. Otherwise, return False.\n",
    "\n",
    "For example, given [-6, 0, 2, 40], you should return 2. Given [1, 5, 7, 8], you should return False."
   ]
  },
  {
   "cell_type": "markdown",
   "id": "9887c1ae-2f0b-4913-a5e3-199daee75d38",
   "metadata": {},
   "source": [
    "### Solution"
   ]
  },
  {
   "cell_type": "code",
   "execution_count": null,
   "id": "20ab48b3-12af-4165-862d-1f20fe60782c",
   "metadata": {},
   "outputs": [],
   "source": [
    "def function(list):\n",
    "    a = 0\n",
    "    b = []\n",
    "    \n",
    "    for i in list:\n",
    "        if i == a:\n",
    "            b.append(i)\n",
    "            a = a+1\n",
    "    if len(b) == 0:\n",
    "        b = False\n",
    "    return b"
   ]
  },
  {
   "cell_type": "code",
   "execution_count": null,
   "id": "42fbee99-0b69-4c45-ba10-ad18cd0a1c58",
   "metadata": {},
   "outputs": [],
   "source": [
    "list1 = [-6, 0, 2, 40]\n",
    "\n",
    "function(list1)"
   ]
  },
  {
   "cell_type": "code",
   "execution_count": null,
   "id": "63383761-b437-4791-8943-61fb8345dd73",
   "metadata": {},
   "outputs": [],
   "source": [
    "list2 = [1, 5, 7, 8]\n",
    "\n",
    "function(list2)"
   ]
  },
  {
   "cell_type": "code",
   "execution_count": null,
   "id": "7886a1ae-873e-4d16-91c8-ea9a3d833639",
   "metadata": {},
   "outputs": [],
   "source": [
    "list3 = [0, 1, 2, 3, 4, 5, 6]\n",
    "\n",
    "function(list3)"
   ]
  }
 ],
 "metadata": {
  "kernelspec": {
   "display_name": "Python 3 (ipykernel)",
   "language": "python",
   "name": "python3"
  },
  "language_info": {
   "codemirror_mode": {
    "name": "ipython",
    "version": 3
   },
   "file_extension": ".py",
   "mimetype": "text/x-python",
   "name": "python",
   "nbconvert_exporter": "python",
   "pygments_lexer": "ipython3",
   "version": "3.11.5"
  }
 },
 "nbformat": 4,
 "nbformat_minor": 5
}
